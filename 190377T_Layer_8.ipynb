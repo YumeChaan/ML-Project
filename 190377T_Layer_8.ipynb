{
  "cells": [
    {
      "cell_type": "code",
      "execution_count": 1,
      "metadata": {
        "id": "D_PZTv5gctiZ"
      },
      "outputs": [],
      "source": [
        "import pandas as pd\n",
        "\n",
        "labels = ['label_1', 'label_2', 'label_3', 'label_4']\n",
        "features = [f'feature_{i}' for i in range (1,769)]"
      ]
    },
    {
      "cell_type": "markdown",
      "metadata": {},
      "source": [
        "Reading Datasets"
      ]
    },
    {
      "cell_type": "code",
      "execution_count": 2,
      "metadata": {
        "id": "Q7qsmeBhc6Un"
      },
      "outputs": [],
      "source": [
        "train_df = pd.read_csv('./8/train.csv')\n",
        "test_df = pd.read_csv('./8/test.csv')\n",
        "valid_df = pd.read_csv('./8/valid.csv')"
      ]
    },
    {
      "cell_type": "markdown",
      "metadata": {},
      "source": [
        "Data Preprocessing -\n",
        "Remove NaN values, \n",
        "Data Scaling"
      ]
    },
    {
      "cell_type": "code",
      "execution_count": 3,
      "metadata": {
        "id": "KFi6149stR5_"
      },
      "outputs": [],
      "source": [
        "from sklearn.preprocessing import RobustScaler\n",
        "\n",
        "id = ['ID']\n",
        "\n",
        "x_train = {}\n",
        "y_train = {}\n",
        "\n",
        "x_valid = {}\n",
        "y_valid = {}\n",
        "\n",
        "x_test = {}\n",
        "\n",
        "for label in labels:\n",
        "  tr_df = train_df[train_df['label_2'].notna()] if label == 'label_2' else train_df\n",
        "  vl_df = valid_df[valid_df['label_2'].notna()] if label == 'label_2' else valid_df\n",
        "  tst_df = test_df.drop('ID', axis=1)\n",
        "\n",
        "  scaler = RobustScaler()\n",
        "  x_train[label] = pd.DataFrame(scaler.fit_transform(tr_df.drop(labels, axis = 1)), columns = features)\n",
        "  y_train[label] = tr_df[label]\n",
        "\n",
        "  x_valid[label] = pd.DataFrame(scaler.transform(vl_df.drop(labels, axis = 1)), columns = features)\n",
        "  y_valid[label] = vl_df[label]\n",
        "\n",
        "  x_test[label] = pd.DataFrame(scaler.transform(tst_df), columns = features)"
      ]
    },
    {
      "cell_type": "markdown",
      "metadata": {},
      "source": [
        "Feature Engineering - Applying PCA"
      ]
    },
    {
      "cell_type": "code",
      "execution_count": 4,
      "metadata": {
        "colab": {
          "base_uri": "https://localhost:8080/"
        },
        "id": "ssQaXrm9YOCP",
        "outputId": "98b6ac05-2bc3-4628-8699-ec553034e1b6"
      },
      "outputs": [
        {
          "name": "stdout",
          "output_type": "stream",
          "text": [
            "label_1\n",
            "(28520, 569)\n",
            "(750, 569)\n",
            "(744, 569)\n",
            "...............................................................\n",
            "label_2\n",
            "(28040, 569)\n",
            "(736, 569)\n",
            "(744, 569)\n",
            "...............................................................\n",
            "label_3\n",
            "(28520, 569)\n",
            "(750, 569)\n",
            "(744, 569)\n",
            "...............................................................\n",
            "label_4\n",
            "(28520, 569)\n",
            "(750, 569)\n",
            "(744, 569)\n",
            "...............................................................\n"
          ]
        }
      ],
      "source": [
        "from sklearn.decomposition import PCA\n",
        "\n",
        "x_train_pca = {}\n",
        "y_train_pca = y_train\n",
        "\n",
        "x_valid_pca = {}\n",
        "y_valid_pca = y_valid\n",
        "\n",
        "x_test_pca = {}\n",
        "\n",
        "for label in labels:\n",
        "  if (label == 'label_2'):\n",
        "    pca = PCA(n_components= 0.99, svd_solver='full')\n",
        "  else:\n",
        "    pca = PCA(n_components= 0.99, svd_solver='full')\n",
        "  pca.fit(x_train[label])\n",
        "  x_train_trf = pd.DataFrame(pca.transform(x_train[label]))\n",
        "  x_valid_trf = pd.DataFrame(pca.transform(x_valid[label]))\n",
        "  x_test_trf = pd.DataFrame(pca.transform(x_test[label]))\n",
        "  x_train_pca[label] = x_train_trf\n",
        "  x_valid_pca[label] = x_valid_trf\n",
        "  x_test_pca[label] = x_test_trf\n",
        "  print(label)\n",
        "  print(x_train_trf.shape)\n",
        "  print(x_valid_trf.shape)\n",
        "  print(x_test_trf.shape)\n",
        "  print('...............................................................')"
      ]
    },
    {
      "cell_type": "markdown",
      "metadata": {},
      "source": [
        "Label 1 - Hyper Parameter Tuning and Cross Validation"
      ]
    },
    {
      "cell_type": "code",
      "execution_count": null,
      "metadata": {},
      "outputs": [],
      "source": [
        "from sklearn.svm import SVC\n",
        "from sklearn.model_selection import RandomizedSearchCV\n",
        "from sklearn.metrics import accuracy_score\n",
        "import numpy as np\n",
        "\n",
        "param_dist = {\n",
        "    'C': np.logspace(-2, 2, 5),  \n",
        "    'kernel': ['linear', 'rbf', 'poly'],\n",
        "    'gamma': np.logspace(-4, 0, 5)  \n",
        "}\n",
        "\n",
        "\n",
        "svm = SVC()\n",
        "\n",
        "random_search = RandomizedSearchCV(\n",
        "    estimator=svm, param_distributions=param_dist, scoring='accuracy', cv=5, verbose=1, n_jobs=-1, n_iter=6, random_state=42\n",
        ")\n",
        "\n",
        "\n",
        "random_search.fit(x_train_pca[labels[0]], y_train_pca[labels[0]])\n",
        "\n",
        "best_params = random_search.best_params_\n",
        "best_model = random_search.best_estimator_\n",
        "\n",
        "print(best_params)\n",
        "print(best_model)\n",
        "\n",
        "y_pred_hype_1 = best_model.predict(x_valid_pca[labels[0]])\n",
        "label_1_hype = best_model.predict(x_test_pca[labels[0]])\n",
        "accuracy = accuracy_score(y_valid_pca[labels[0]], y_pred_hype_1)\n",
        "print(f'Accuracy on test data: {accuracy}')"
      ]
    },
    {
      "cell_type": "markdown",
      "metadata": {},
      "source": [
        "Label 1 - Best Model"
      ]
    },
    {
      "cell_type": "code",
      "execution_count": 5,
      "metadata": {},
      "outputs": [
        {
          "name": "stdout",
          "output_type": "stream",
          "text": [
            "label_1 0.952\n"
          ]
        }
      ],
      "source": [
        "from sklearn import svm\n",
        "from sklearn import metrics\n",
        "\n",
        "clf = svm.SVC(C=63.0957344480193, gamma=0.015848931924611134, kernel='poly')\n",
        "clf.fit(x_train_pca[labels[0]], y_train_pca[labels[0]])\n",
        "y_pred_label_1_99 = clf.predict(x_valid_pca[labels[0]])\n",
        "label_1_99 = clf.predict(x_test_pca[labels[0]])\n",
        "print(labels[0], metrics.accuracy_score(y_valid_pca[labels[0]], y_pred_label_1_99)) #0.952"
      ]
    },
    {
      "cell_type": "markdown",
      "metadata": {},
      "source": [
        "Label 2 - Hyper Parameter Tuning and Cross Validation"
      ]
    },
    {
      "cell_type": "code",
      "execution_count": null,
      "metadata": {},
      "outputs": [],
      "source": [
        "from sklearn.svm import SVC\n",
        "from sklearn.model_selection import RandomizedSearchCV\n",
        "from sklearn.metrics import accuracy_score\n",
        "import numpy as np\n",
        "\n",
        "param_dist = {\n",
        "    'C': np.logspace(-2, 2, 5),  \n",
        "    'kernel': ['linear', 'rbf', 'poly'],\n",
        "    'gamma': np.logspace(-4, 0, 5)  \n",
        "} \n",
        "\n",
        "\n",
        "svm = SVC()\n",
        "\n",
        "random_search = RandomizedSearchCV(\n",
        "    estimator=svm, param_distributions=param_dist, scoring='accuracy', cv=5, verbose=1, n_jobs=-1, n_iter=2, random_state=42\n",
        ")\n",
        "\n",
        "\n",
        "random_search.fit(x_train_pca[labels[1]], y_train_pca[labels[1]])\n",
        "\n",
        "best_params = random_search.best_params_\n",
        "best_model = random_search.best_estimator_\n",
        "\n",
        "print(best_params)\n",
        "print(best_model)\n",
        "\n",
        "y_pred_hype_2 = best_model.predict(x_valid_pca[labels[1]])\n",
        "label_2_hype = best_model.predict(x_test_pca[labels[1]])\n",
        "accuracy = accuracy_score(y_valid_pca[labels[1]], y_pred_hype_2)\n",
        "print(f'Accuracy on test data: {accuracy}')"
      ]
    },
    {
      "cell_type": "markdown",
      "metadata": {},
      "source": [
        "Label 2 - Best Model"
      ]
    },
    {
      "cell_type": "code",
      "execution_count": 8,
      "metadata": {
        "id": "FbWFhOLqgsId",
        "outputId": "77f41704-d5c8-4ac5-c7b0-48a050af2315"
      },
      "outputs": [
        {
          "name": "stdout",
          "output_type": "stream",
          "text": [
            "label_2 0.9334239130434783\n"
          ]
        }
      ],
      "source": [
        "from sklearn import svm\n",
        "from sklearn import metrics\n",
        "\n",
        "clf = svm.SVC(C=63.0957344480193, gamma=0.015848931924611134, kernel='poly')\n",
        "clf.fit(x_train_pca[labels[1]], y_train_pca[labels[1]])\n",
        "y_pred_label_2_99 = clf.predict(x_valid_pca[labels[1]])\n",
        "label_2_99 = clf.predict(x_test_pca[labels[1]])\n",
        "print(labels[1], metrics.accuracy_score(y_valid_pca[labels[1]], y_pred_label_2_99))  #0.9334239130434783"
      ]
    },
    {
      "cell_type": "markdown",
      "metadata": {},
      "source": [
        "Label 3 - Hyper Parameter Tuning and Cross Validation"
      ]
    },
    {
      "cell_type": "code",
      "execution_count": null,
      "metadata": {},
      "outputs": [],
      "source": [
        "from sklearn.svm import SVC\n",
        "from sklearn.model_selection import RandomizedSearchCV\n",
        "from sklearn.metrics import accuracy_score\n",
        "import numpy as np\n",
        "\n",
        "param_dist = {\n",
        "    'C': np.logspace(-2, 2, 5),  \n",
        "    'kernel': ['linear', 'rbf', 'poly'],\n",
        "    'gamma': np.logspace(-4, 0, 5)  \n",
        "}\n",
        "\n",
        "\n",
        "svm = SVC()\n",
        "\n",
        "random_search = RandomizedSearchCV(\n",
        "    estimator=svm, param_distributions=param_dist, scoring='accuracy', cv=5, verbose=1, n_jobs=-1, n_iter=6, random_state=42\n",
        ")\n",
        "\n",
        "\n",
        "random_search.fit(x_train_pca[labels[2]], y_train_pca[labels[2]])\n",
        "\n",
        "best_params = random_search.best_params_\n",
        "best_model = random_search.best_estimator_\n",
        "\n",
        "print(best_params)\n",
        "print(best_model)\n",
        "\n",
        "y_pred_hype_3 = best_model.predict(x_valid_pca[labels[2]])\n",
        "label_3_hype = best_model.predict(x_test_pca[labels[2]])\n",
        "accuracy = accuracy_score(y_valid_pca[labels[2]], y_pred_hype_3)\n",
        "print(f'Accuracy on test data: {accuracy}')"
      ]
    },
    {
      "cell_type": "markdown",
      "metadata": {},
      "source": [
        "Label 3 - Best Model"
      ]
    },
    {
      "cell_type": "code",
      "execution_count": null,
      "metadata": {},
      "outputs": [],
      "source": [
        "from sklearn import svm\n",
        "from sklearn import metrics\n",
        "\n",
        "clf = svm.SVC(kernel= 'rbf')\n",
        "clf.fit(x_train_pca[labels[2]], y_train_pca[labels[2]])\n",
        "y_pred_label_3_99 = clf.predict(x_valid_pca[labels[2]])\n",
        "label_3_99 = clf.predict(x_test_pca[labels[2]])\n",
        "print(labels[2], metrics.accuracy_score(y_valid_pca[labels[2]], y_pred_label_3_99)) #0.9986666666666667"
      ]
    },
    {
      "cell_type": "markdown",
      "metadata": {},
      "source": [
        "Label 4 - Hyper Parameter Tuning and Cross Validation"
      ]
    },
    {
      "cell_type": "code",
      "execution_count": null,
      "metadata": {},
      "outputs": [],
      "source": [
        "from sklearn.svm import SVC\n",
        "from sklearn.model_selection import RandomizedSearchCV\n",
        "from sklearn.metrics import accuracy_score\n",
        "import numpy as np\n",
        "\n",
        "\n",
        "param_dist = {\n",
        "    'C': np.logspace(-2, 2, 5),  \n",
        "    'kernel': ['linear', 'rbf', 'poly'],\n",
        "    'gamma': np.logspace(-4, 0, 5)  \n",
        "}\n",
        "\n",
        "\n",
        "svm = SVC()\n",
        "\n",
        "random_search = RandomizedSearchCV(\n",
        "    estimator=svm, param_distributions=param_dist, scoring='accuracy', cv=5, verbose=1, n_jobs=-1, n_iter=6, random_state=42\n",
        ")\n",
        "\n",
        "\n",
        "random_search.fit(x_train_pca[labels[3]], y_train_pca[labels[3]])\n",
        "\n",
        "best_params = random_search.best_params_\n",
        "best_model = random_search.best_estimator_\n",
        "\n",
        "print(best_params)\n",
        "print(best_model)\n",
        "\n",
        "y_pred_hype_4 = best_model.predict(x_valid_pca[labels[3]])\n",
        "label_4_hype = best_model.predict(x_test_pca[labels[3]])\n",
        "accuracy = accuracy_score(y_valid_pca[labels[3]], y_pred_hype_4)\n",
        "print(f'Accuracy on test data: {accuracy}')"
      ]
    },
    {
      "cell_type": "markdown",
      "metadata": {},
      "source": [
        "Label 4 - Best Model"
      ]
    },
    {
      "cell_type": "code",
      "execution_count": 10,
      "metadata": {
        "id": "SumKY62bgsIf",
        "outputId": "23f8a382-f700-4669-82d3-a9bb0b6032f2"
      },
      "outputs": [
        {
          "name": "stdout",
          "output_type": "stream",
          "text": [
            "label_4 0.9626666666666667\n"
          ]
        }
      ],
      "source": [
        "from sklearn import svm\n",
        "from sklearn import metrics\n",
        "\n",
        "clf = svm.SVC(C=63.0957344480193, gamma=0.015848931924611134, kernel='poly')\n",
        "clf.fit(x_train_pca[labels[3]], y_train_pca[labels[3]])\n",
        "y_pred_label_4_99 = clf.predict(x_valid_pca[labels[3]])\n",
        "label_4_99 = clf.predict(x_test_pca[labels[3]])\n",
        "print(labels[3], metrics.accuracy_score(y_valid_pca[labels[3]], y_pred_label_4_99)) #0.9626666666666667"
      ]
    },
    {
      "cell_type": "markdown",
      "metadata": {},
      "source": [
        "Making Output Dataset"
      ]
    },
    {
      "cell_type": "code",
      "execution_count": 11,
      "metadata": {
        "id": "y95t4TNjgsIf",
        "outputId": "8bbb56dc-78f5-4a64-cdea-b8c6c05ee610"
      },
      "outputs": [
        {
          "data": {
            "text/html": [
              "<div>\n",
              "<style scoped>\n",
              "    .dataframe tbody tr th:only-of-type {\n",
              "        vertical-align: middle;\n",
              "    }\n",
              "\n",
              "    .dataframe tbody tr th {\n",
              "        vertical-align: top;\n",
              "    }\n",
              "\n",
              "    .dataframe thead th {\n",
              "        text-align: right;\n",
              "    }\n",
              "</style>\n",
              "<table border=\"1\" class=\"dataframe\">\n",
              "  <thead>\n",
              "    <tr style=\"text-align: right;\">\n",
              "      <th></th>\n",
              "      <th>ID</th>\n",
              "      <th>label_1</th>\n",
              "      <th>label_2</th>\n",
              "      <th>label_3</th>\n",
              "      <th>label_4</th>\n",
              "    </tr>\n",
              "  </thead>\n",
              "  <tbody>\n",
              "    <tr>\n",
              "      <th>0</th>\n",
              "      <td>1</td>\n",
              "      <td>26</td>\n",
              "      <td>22.0</td>\n",
              "      <td>0</td>\n",
              "      <td>2</td>\n",
              "    </tr>\n",
              "    <tr>\n",
              "      <th>1</th>\n",
              "      <td>2</td>\n",
              "      <td>18</td>\n",
              "      <td>25.0</td>\n",
              "      <td>1</td>\n",
              "      <td>8</td>\n",
              "    </tr>\n",
              "    <tr>\n",
              "      <th>2</th>\n",
              "      <td>3</td>\n",
              "      <td>16</td>\n",
              "      <td>30.0</td>\n",
              "      <td>1</td>\n",
              "      <td>6</td>\n",
              "    </tr>\n",
              "    <tr>\n",
              "      <th>3</th>\n",
              "      <td>4</td>\n",
              "      <td>7</td>\n",
              "      <td>25.0</td>\n",
              "      <td>1</td>\n",
              "      <td>6</td>\n",
              "    </tr>\n",
              "    <tr>\n",
              "      <th>4</th>\n",
              "      <td>5</td>\n",
              "      <td>58</td>\n",
              "      <td>29.0</td>\n",
              "      <td>0</td>\n",
              "      <td>6</td>\n",
              "    </tr>\n",
              "    <tr>\n",
              "      <th>...</th>\n",
              "      <td>...</td>\n",
              "      <td>...</td>\n",
              "      <td>...</td>\n",
              "      <td>...</td>\n",
              "      <td>...</td>\n",
              "    </tr>\n",
              "    <tr>\n",
              "      <th>739</th>\n",
              "      <td>740</td>\n",
              "      <td>37</td>\n",
              "      <td>24.0</td>\n",
              "      <td>1</td>\n",
              "      <td>6</td>\n",
              "    </tr>\n",
              "    <tr>\n",
              "      <th>740</th>\n",
              "      <td>741</td>\n",
              "      <td>35</td>\n",
              "      <td>24.0</td>\n",
              "      <td>1</td>\n",
              "      <td>2</td>\n",
              "    </tr>\n",
              "    <tr>\n",
              "      <th>741</th>\n",
              "      <td>742</td>\n",
              "      <td>54</td>\n",
              "      <td>27.0</td>\n",
              "      <td>1</td>\n",
              "      <td>6</td>\n",
              "    </tr>\n",
              "    <tr>\n",
              "      <th>742</th>\n",
              "      <td>743</td>\n",
              "      <td>38</td>\n",
              "      <td>32.0</td>\n",
              "      <td>1</td>\n",
              "      <td>12</td>\n",
              "    </tr>\n",
              "    <tr>\n",
              "      <th>743</th>\n",
              "      <td>744</td>\n",
              "      <td>51</td>\n",
              "      <td>26.0</td>\n",
              "      <td>1</td>\n",
              "      <td>6</td>\n",
              "    </tr>\n",
              "  </tbody>\n",
              "</table>\n",
              "<p>744 rows × 5 columns</p>\n",
              "</div>"
            ],
            "text/plain": [
              "      ID  label_1  label_2  label_3  label_4\n",
              "0      1       26     22.0        0        2\n",
              "1      2       18     25.0        1        8\n",
              "2      3       16     30.0        1        6\n",
              "3      4        7     25.0        1        6\n",
              "4      5       58     29.0        0        6\n",
              "..   ...      ...      ...      ...      ...\n",
              "739  740       37     24.0        1        6\n",
              "740  741       35     24.0        1        2\n",
              "741  742       54     27.0        1        6\n",
              "742  743       38     32.0        1       12\n",
              "743  744       51     26.0        1        6\n",
              "\n",
              "[744 rows x 5 columns]"
            ]
          },
          "execution_count": 11,
          "metadata": {},
          "output_type": "execute_result"
        }
      ],
      "source": [
        "id_values = list(range(1, 745))\n",
        "output_df = pd.DataFrame({\n",
        "    'ID': id_values,\n",
        "    'label_1': label_1_99,\n",
        "    'label_2': label_2_99,\n",
        "    'label_3': label_3_99,\n",
        "    'label_4': label_4_99,\n",
        "})\n",
        "\n",
        "output_df"
      ]
    },
    {
      "cell_type": "markdown",
      "metadata": {},
      "source": [
        "Writing to the CSV file"
      ]
    },
    {
      "cell_type": "code",
      "execution_count": 12,
      "metadata": {
        "id": "Y4FDRqSDgsIg"
      },
      "outputs": [],
      "source": [
        "output_df.to_csv('./8/8.csv', index=False)"
      ]
    }
  ],
  "metadata": {
    "colab": {
      "provenance": []
    },
    "kernelspec": {
      "display_name": "Python 3",
      "name": "python3"
    },
    "language_info": {
      "codemirror_mode": {
        "name": "ipython",
        "version": 3
      },
      "file_extension": ".py",
      "mimetype": "text/x-python",
      "name": "python",
      "nbconvert_exporter": "python",
      "pygments_lexer": "ipython3",
      "version": "3.11.2"
    }
  },
  "nbformat": 4,
  "nbformat_minor": 0
}
