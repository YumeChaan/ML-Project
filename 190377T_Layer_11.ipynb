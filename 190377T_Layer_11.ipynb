{
  "cells": [
    {
      "cell_type": "code",
      "execution_count": 1,
      "metadata": {
        "id": "D_PZTv5gctiZ"
      },
      "outputs": [],
      "source": [
        "import pandas as pd\n",
        "import numpy as np\n",
        "\n",
        "labels = ['label_1', 'label_2', 'label_3', 'label_4']\n",
        "features = [f'feature_{i}' for i in range (1,769)]"
      ]
    },
    {
      "cell_type": "markdown",
      "metadata": {},
      "source": [
        "Reading Datasets"
      ]
    },
    {
      "cell_type": "code",
      "execution_count": 2,
      "metadata": {
        "id": "Q7qsmeBhc6Un"
      },
      "outputs": [],
      "source": [
        "train_df = pd.read_csv('./11/train.csv')\n",
        "test_df = pd.read_csv('./11/test.csv')\n",
        "valid_df = pd.read_csv('./11/valid.csv')"
      ]
    },
    {
      "cell_type": "markdown",
      "metadata": {},
      "source": [
        "Data Preprocessing -\n",
        "Remove NaN values, \n",
        "Data data standardization"
      ]
    },
    {
      "cell_type": "code",
      "execution_count": 5,
      "metadata": {
        "id": "KFi6149stR5_"
      },
      "outputs": [],
      "source": [
        "from sklearn.preprocessing import RobustScaler\n",
        "\n",
        "id = ['ID']\n",
        "\n",
        "x_train = {}\n",
        "y_train = {}\n",
        "\n",
        "x_valid = {}\n",
        "y_valid = {}\n",
        "\n",
        "x_test = {}\n",
        "\n",
        "for label in labels:\n",
        "  tr_df = train_df[train_df['label_2'].notna()] if label == 'label_2' else train_df\n",
        "  vl_df = valid_df[valid_df['label_2'].notna()] if label == 'label_2' else valid_df\n",
        "  tst_df = test_df.drop('ID', axis=1)\n",
        "\n",
        "  scaler = RobustScaler()\n",
        "  x_train[label] = pd.DataFrame(scaler.fit_transform(tr_df.drop(labels, axis = 1)), columns = features)\n",
        "  y_train[label] = tr_df[label]\n",
        "\n",
        "  x_valid[label] = pd.DataFrame(scaler.transform(vl_df.drop(labels, axis = 1)), columns = features)\n",
        "  y_valid[label] = vl_df[label]\n",
        "\n",
        "  x_test[label] = pd.DataFrame(scaler.transform(tst_df), columns = features)"
      ]
    },
    {
      "cell_type": "code",
      "execution_count": 6,
      "metadata": {
        "colab": {
          "base_uri": "https://localhost:8080/"
        },
        "id": "ssQaXrm9YOCP",
        "outputId": "98b6ac05-2bc3-4628-8699-ec553034e1b6"
      },
      "outputs": [
        {
          "name": "stdout",
          "output_type": "stream",
          "text": [
            "label_1\n",
            "(28520, 382)\n",
            "(750, 382)\n",
            "(744, 382)\n",
            "...............................................................\n",
            "label_2\n",
            "(28040, 381)\n",
            "(736, 381)\n",
            "(744, 381)\n",
            "...............................................................\n",
            "label_3\n",
            "(28520, 382)\n",
            "(750, 382)\n",
            "(744, 382)\n",
            "...............................................................\n",
            "label_4\n",
            "(28520, 382)\n",
            "(750, 382)\n",
            "(744, 382)\n",
            "...............................................................\n"
          ]
        }
      ],
      "source": [
        "from sklearn.decomposition import PCA\n",
        "\n",
        "x_train_pca = {}\n",
        "y_train_pca = y_train\n",
        "\n",
        "x_valid_pca = {}\n",
        "y_valid_pca = y_valid\n",
        "\n",
        "x_test_pca = {}\n",
        "\n",
        "for label in labels:\n",
        "  pca = PCA(n_components= 0.99, svd_solver='full')\n",
        "  pca.fit(x_train[label])\n",
        "  x_train_trf = pd.DataFrame(pca.transform(x_train[label]))\n",
        "  x_valid_trf = pd.DataFrame(pca.transform(x_valid[label]))\n",
        "  x_test_trf = pd.DataFrame(pca.transform(x_test[label]))\n",
        "  x_train_pca[label] = x_train_trf\n",
        "  x_valid_pca[label] = x_valid_trf\n",
        "  x_test_pca[label] = x_test_trf\n",
        "  print(label)\n",
        "  print(x_train_trf.shape)\n",
        "  print(x_valid_trf.shape)\n",
        "  print(x_test_trf.shape)\n",
        "  print('...............................................................')"
      ]
    },
    {
      "cell_type": "markdown",
      "metadata": {},
      "source": [
        "KNN Classifier for all the Labels"
      ]
    },
    {
      "cell_type": "code",
      "execution_count": null,
      "metadata": {},
      "outputs": [],
      "source": [
        "from sklearn.neighbors import KNeighborsClassifier\n",
        "from sklearn import metrics\n",
        "\n",
        "def knn(x_train, y_train, x_valid, y_valid):\n",
        "  for label in labels:\n",
        "    knn = KNeighborsClassifier(n_neighbors=5)\n",
        "    knn.fit(x_train[label], y_train[label])\n",
        "    y_pred = knn.predict(x_valid[label])\n",
        "    print(label, metrics.accuracy_score(y_valid[label], y_pred))\n",
        "\n",
        "knn(x_train_pca, y_train_pca, x_valid_pca, y_valid_pca)"
      ]
    },
    {
      "cell_type": "markdown",
      "metadata": {},
      "source": [
        "SVM Classifier for all the Labels"
      ]
    },
    {
      "cell_type": "markdown",
      "metadata": {},
      "source": [
        "Label 1 - Hyper Parameter Tuning and Cross Validation "
      ]
    },
    {
      "cell_type": "code",
      "execution_count": null,
      "metadata": {},
      "outputs": [],
      "source": [
        "from sklearn.svm import SVC\n",
        "from sklearn.model_selection import RandomizedSearchCV\n",
        "from sklearn.metrics import accuracy_score\n",
        "import numpy as np\n",
        "\n",
        "\n",
        "param_dist = {\n",
        "    'C': np.logspace(-2, 2, 5),  \n",
        "    'kernel': ['linear', 'rbf', 'poly'],\n",
        "    'gamma': np.logspace(-4, 0, 5)  \n",
        "}\n",
        "\n",
        "\n",
        "svm = SVC()\n",
        "\n",
        "random_search = RandomizedSearchCV(\n",
        "    estimator=svm, param_distributions=param_dist, scoring='accuracy', cv=5, verbose=1, n_jobs=-1, n_iter=6, random_state=42\n",
        ")\n",
        "\n",
        "\n",
        "random_search.fit(x_train_pca[labels[0]], y_train_pca[labels[0]])\n",
        "\n",
        "best_params = random_search.best_params_\n",
        "best_model = random_search.best_estimator_\n",
        "\n",
        "print(best_params)\n",
        "print(best_model)\n",
        "\n",
        "y_pred = best_model.predict(x_valid_pca[labels[0]])\n",
        "accuracy = accuracy_score(y_valid_pca[labels[0]], y_pred)\n",
        "print(f'Accuracy on test data: {accuracy}')"
      ]
    },
    {
      "cell_type": "markdown",
      "metadata": {},
      "source": [
        "Label 1 - Best Model"
      ]
    },
    {
      "cell_type": "code",
      "execution_count": null,
      "metadata": {},
      "outputs": [
        {
          "name": "stdout",
          "output_type": "stream",
          "text": [
            "label_1 0.952\n"
          ]
        }
      ],
      "source": [
        "from sklearn import svm\n",
        "from sklearn import metrics\n",
        "\n",
        "clf = svm.SVC(kernel= 'rbf', C=100.0, gamma=0.0001)\n",
        "clf.fit(x_train_pca[labels[0]], y_train_pca[labels[0]])\n",
        "y_pred = clf.predict(x_valid_pca[labels[0]])\n",
        "label_1 = clf.predict(x_test_pca[labels[0]])\n",
        "print(labels[0], metrics.accuracy_score(y_valid_pca[labels[0]], y_pred)) #0.94"
      ]
    },
    {
      "cell_type": "markdown",
      "metadata": {},
      "source": [
        "Label 2 - Hyper Parameter Tuning and Cross Validation"
      ]
    },
    {
      "cell_type": "code",
      "execution_count": null,
      "metadata": {},
      "outputs": [],
      "source": [
        "from sklearn.svm import SVC\n",
        "from sklearn.model_selection import RandomizedSearchCV\n",
        "from sklearn.metrics import accuracy_score\n",
        "import numpy as np\n",
        "\n",
        "param_dist = {\n",
        "    'C': np.logspace(-3, 3, 6),  \n",
        "    'kernel': ['linear', 'rbf', 'poly'],\n",
        "    'gamma': np.logspace(-3, 3, 6)  \n",
        "}\n",
        "\n",
        "\n",
        "svm = SVC()\n",
        "\n",
        "random_search = RandomizedSearchCV(\n",
        "    estimator=svm, param_distributions=param_dist, scoring='accuracy', cv=5, verbose=1, n_jobs=-1, n_iter=6, random_state=42\n",
        ")\n",
        "\n",
        "\n",
        "random_search.fit(x_train_pca[labels[1]], y_train_pca[labels[1]])\n",
        "\n",
        "best_params = random_search.best_params_\n",
        "best_model = random_search.best_estimator_\n",
        "\n",
        "print(best_params)\n",
        "print(best_model)\n",
        "\n",
        "y_pred = best_model.predict(x_valid_pca[labels[1]])\n",
        "accuracy = accuracy_score(y_valid_pca[labels[1]], y_pred)\n",
        "print(f'Accuracy on test data: {accuracy}')"
      ]
    },
    {
      "cell_type": "markdown",
      "metadata": {},
      "source": [
        "Label 2 - Best Model"
      ]
    },
    {
      "cell_type": "code",
      "execution_count": 9,
      "metadata": {
        "id": "gi0RCWvFgMyw"
      },
      "outputs": [
        {
          "name": "stdout",
          "output_type": "stream",
          "text": [
            "label_2 0.8872282608695652\n"
          ]
        }
      ],
      "source": [
        "from sklearn import svm\n",
        "from sklearn import metrics\n",
        "\n",
        "clf = svm.SVC(kernel= 'rbf', gamma= 0.001, C= 4)\n",
        "clf.fit(x_train_pca[labels[1]], y_train_pca[labels[1]])\n",
        "y_pred_label_2 = clf.predict(x_valid_pca[labels[1]])\n",
        "label_2 = clf.predict(x_test_pca[labels[1]])\n",
        "print(labels[1], metrics.accuracy_score(y_valid_pca[labels[1]], y_pred_label_2))   #0.8872"
      ]
    },
    {
      "cell_type": "markdown",
      "metadata": {},
      "source": [
        "Label 3 - Hyper Parameter Tuning and Cross Validation"
      ]
    },
    {
      "cell_type": "code",
      "execution_count": null,
      "metadata": {},
      "outputs": [],
      "source": [
        "from sklearn.svm import SVC\n",
        "from sklearn.model_selection import RandomizedSearchCV\n",
        "from sklearn.metrics import accuracy_score\n",
        "import numpy as np\n",
        "\n",
        "param_dist = {\n",
        "    'C': np.logspace(-2, 2, 5),  \n",
        "    'kernel': ['linear', 'rbf', 'poly'],\n",
        "    'gamma': np.logspace(-4, 0, 5)  \n",
        "}\n",
        "\n",
        "\n",
        "svm = SVC()\n",
        "\n",
        "random_search = RandomizedSearchCV(\n",
        "    estimator=svm, param_distributions=param_dist, scoring='accuracy', cv=5, verbose=1, n_jobs=-1, n_iter=6, random_state=42\n",
        ")\n",
        "\n",
        "\n",
        "random_search.fit(x_train_pca[labels[2]], y_train_pca[labels[2]])\n",
        "\n",
        "best_params = random_search.best_params_\n",
        "best_model = random_search.best_estimator_\n",
        "\n",
        "print(best_params)\n",
        "print(best_model)\n",
        "\n",
        "y_pred = best_model.predict(x_valid_pca[labels[2]])\n",
        "accuracy = accuracy_score(y_valid_pca[labels[2]], y_pred)\n",
        "print(f'Accuracy on test data: {accuracy}')"
      ]
    },
    {
      "cell_type": "markdown",
      "metadata": {},
      "source": [
        "Label 3 - Best Model"
      ]
    },
    {
      "cell_type": "code",
      "execution_count": 15,
      "metadata": {
        "id": "ALc0vix9gMyw",
        "outputId": "c7453170-6980-44de-b494-aad75abbed20"
      },
      "outputs": [
        {
          "name": "stdout",
          "output_type": "stream",
          "text": [
            "label_3 0.9973333333333333\n"
          ]
        }
      ],
      "source": [
        "from sklearn import svm\n",
        "from sklearn import metrics\n",
        "\n",
        "clf = svm.SVC(kernel= 'rbf')\n",
        "clf.fit(x_train_pca[labels[2]], y_train_pca[labels[2]])\n",
        "y_pred_label_3 = clf.predict(x_valid_pca[labels[2]])\n",
        "label_3 = clf.predict(x_test_pca[labels[2]])\n",
        "print(labels[2], metrics.accuracy_score(y_valid_pca[labels[2]], y_pred_label_3)) #0.9973333333333333"
      ]
    },
    {
      "cell_type": "markdown",
      "metadata": {},
      "source": [
        "Label 4 - Hyper Parameter Tuning and Cross Validation"
      ]
    },
    {
      "cell_type": "code",
      "execution_count": null,
      "metadata": {},
      "outputs": [],
      "source": [
        "from sklearn.svm import SVC\n",
        "from sklearn.model_selection import RandomizedSearchCV\n",
        "from sklearn.metrics import accuracy_score\n",
        "import numpy as np\n",
        "\n",
        "param_dist = {\n",
        "    'C': np.logspace(-3, 3, 6),  \n",
        "    'kernel': ['linear', 'rbf', 'poly'],\n",
        "    'gamma': np.logspace(-3, 3, 6)  \n",
        "}\n",
        "\n",
        "\n",
        "svm = SVC()\n",
        "\n",
        "random_search = RandomizedSearchCV(\n",
        "    estimator=svm, param_distributions=param_dist, scoring='accuracy', cv=5, verbose=1, n_jobs=-1, n_iter=6, random_state=42\n",
        ")\n",
        "\n",
        "\n",
        "random_search.fit(x_train_pca[labels[3]], y_train_pca[labels[3]])\n",
        "\n",
        "best_params = random_search.best_params_\n",
        "best_model = random_search.best_estimator_\n",
        "\n",
        "print(best_params)\n",
        "print(best_model)\n",
        "\n",
        "y_pred = best_model.predict(x_valid_pca[labels[3]])\n",
        "accuracy = accuracy_score(y_valid_pca[labels[3]], y_pred)\n",
        "print(f'Accuracy on test data: {accuracy}')"
      ]
    },
    {
      "cell_type": "markdown",
      "metadata": {},
      "source": [
        "Label 4 - Best Model"
      ]
    },
    {
      "cell_type": "code",
      "execution_count": 22,
      "metadata": {
        "id": "p8pMJ_uEgMyw",
        "outputId": "14f4b6da-9198-403d-d23b-252b4d5ea412"
      },
      "outputs": [
        {
          "name": "stdout",
          "output_type": "stream",
          "text": [
            "label_4 0.94\n"
          ]
        }
      ],
      "source": [
        "from sklearn import svm\n",
        "from sklearn import metrics\n",
        "\n",
        "clf = svm.SVC(kernel= 'rbf', gamma= 0.001, C= 3.981071705534969)\n",
        "clf.fit(x_train_pca[labels[3]], y_train_pca[labels[3]])\n",
        "y_pred_label_4 = clf.predict(x_valid_pca[labels[3]])\n",
        "label_4 = clf.predict(x_test_pca[labels[3]])\n",
        "print(labels[3], metrics.accuracy_score(y_valid_pca[labels[3]], y_pred_label_4)) #0.94"
      ]
    },
    {
      "cell_type": "markdown",
      "metadata": {},
      "source": [
        "Making Output Dataset"
      ]
    },
    {
      "cell_type": "code",
      "execution_count": null,
      "metadata": {
        "id": "wDSE9SpzgMyx",
        "outputId": "724b7e19-9ea5-41eb-8f2b-8133d9128569"
      },
      "outputs": [
        {
          "data": {
            "text/html": [
              "<div>\n",
              "<style scoped>\n",
              "    .dataframe tbody tr th:only-of-type {\n",
              "        vertical-align: middle;\n",
              "    }\n",
              "\n",
              "    .dataframe tbody tr th {\n",
              "        vertical-align: top;\n",
              "    }\n",
              "\n",
              "    .dataframe thead th {\n",
              "        text-align: right;\n",
              "    }\n",
              "</style>\n",
              "<table border=\"1\" class=\"dataframe\">\n",
              "  <thead>\n",
              "    <tr style=\"text-align: right;\">\n",
              "      <th></th>\n",
              "      <th>ID</th>\n",
              "      <th>label_1</th>\n",
              "      <th>label_2</th>\n",
              "      <th>label_3</th>\n",
              "      <th>label_4</th>\n",
              "    </tr>\n",
              "  </thead>\n",
              "  <tbody>\n",
              "    <tr>\n",
              "      <th>0</th>\n",
              "      <td>1</td>\n",
              "      <td>26</td>\n",
              "      <td>26</td>\n",
              "      <td>0</td>\n",
              "      <td>2</td>\n",
              "    </tr>\n",
              "    <tr>\n",
              "      <th>1</th>\n",
              "      <td>2</td>\n",
              "      <td>18</td>\n",
              "      <td>18</td>\n",
              "      <td>1</td>\n",
              "      <td>8</td>\n",
              "    </tr>\n",
              "    <tr>\n",
              "      <th>2</th>\n",
              "      <td>3</td>\n",
              "      <td>16</td>\n",
              "      <td>16</td>\n",
              "      <td>1</td>\n",
              "      <td>6</td>\n",
              "    </tr>\n",
              "    <tr>\n",
              "      <th>3</th>\n",
              "      <td>4</td>\n",
              "      <td>7</td>\n",
              "      <td>7</td>\n",
              "      <td>1</td>\n",
              "      <td>6</td>\n",
              "    </tr>\n",
              "    <tr>\n",
              "      <th>4</th>\n",
              "      <td>5</td>\n",
              "      <td>58</td>\n",
              "      <td>58</td>\n",
              "      <td>0</td>\n",
              "      <td>6</td>\n",
              "    </tr>\n",
              "    <tr>\n",
              "      <th>...</th>\n",
              "      <td>...</td>\n",
              "      <td>...</td>\n",
              "      <td>...</td>\n",
              "      <td>...</td>\n",
              "      <td>...</td>\n",
              "    </tr>\n",
              "    <tr>\n",
              "      <th>739</th>\n",
              "      <td>740</td>\n",
              "      <td>47</td>\n",
              "      <td>56</td>\n",
              "      <td>1</td>\n",
              "      <td>6</td>\n",
              "    </tr>\n",
              "    <tr>\n",
              "      <th>740</th>\n",
              "      <td>741</td>\n",
              "      <td>35</td>\n",
              "      <td>35</td>\n",
              "      <td>1</td>\n",
              "      <td>2</td>\n",
              "    </tr>\n",
              "    <tr>\n",
              "      <th>741</th>\n",
              "      <td>742</td>\n",
              "      <td>54</td>\n",
              "      <td>53</td>\n",
              "      <td>1</td>\n",
              "      <td>6</td>\n",
              "    </tr>\n",
              "    <tr>\n",
              "      <th>742</th>\n",
              "      <td>743</td>\n",
              "      <td>38</td>\n",
              "      <td>38</td>\n",
              "      <td>1</td>\n",
              "      <td>12</td>\n",
              "    </tr>\n",
              "    <tr>\n",
              "      <th>743</th>\n",
              "      <td>744</td>\n",
              "      <td>21</td>\n",
              "      <td>21</td>\n",
              "      <td>1</td>\n",
              "      <td>6</td>\n",
              "    </tr>\n",
              "  </tbody>\n",
              "</table>\n",
              "<p>744 rows × 5 columns</p>\n",
              "</div>"
            ],
            "text/plain": [
              "      ID  label_1  label_2  label_3  label_4\n",
              "0      1       26       26        0        2\n",
              "1      2       18       18        1        8\n",
              "2      3       16       16        1        6\n",
              "3      4        7        7        1        6\n",
              "4      5       58       58        0        6\n",
              "..   ...      ...      ...      ...      ...\n",
              "739  740       47       56        1        6\n",
              "740  741       35       35        1        2\n",
              "741  742       54       53        1        6\n",
              "742  743       38       38        1       12\n",
              "743  744       21       21        1        6\n",
              "\n",
              "[744 rows x 5 columns]"
            ]
          },
          "execution_count": 21,
          "metadata": {},
          "output_type": "execute_result"
        }
      ],
      "source": [
        "id_values = list(range(1, 745))\n",
        "output_df = pd.DataFrame({\n",
        "    'ID': id_values,\n",
        "    'label_1': label_1,\n",
        "    'label_2': label_2,\n",
        "    'label_3': label_3,\n",
        "    'label_4': label_4,\n",
        "})\n",
        "\n",
        "output_df"
      ]
    },
    {
      "cell_type": "markdown",
      "metadata": {},
      "source": [
        "Writing to the CSV file"
      ]
    },
    {
      "cell_type": "code",
      "execution_count": 24,
      "metadata": {
        "id": "HxiDnF6TgMyx"
      },
      "outputs": [
        {
          "ename": "NameError",
          "evalue": "name 'output_df' is not defined",
          "output_type": "error",
          "traceback": [
            "\u001b[1;31m---------------------------------------------------------------------------\u001b[0m",
            "\u001b[1;31mNameError\u001b[0m                                 Traceback (most recent call last)",
            "\u001b[1;32mf:\\Academic\\Semester 7\\ML\\Project\\11.ipynb Cell 18\u001b[0m line \u001b[0;36m1\n\u001b[1;32m----> <a href='vscode-notebook-cell:/f%3A/Academic/Semester%207/ML/Project/11.ipynb#X14sZmlsZQ%3D%3D?line=0'>1</a>\u001b[0m output_df\u001b[39m.\u001b[39mto_csv(\u001b[39m'\u001b[39m\u001b[39m./11/11.csv\u001b[39m\u001b[39m'\u001b[39m, index\u001b[39m=\u001b[39m\u001b[39mFalse\u001b[39;00m)\n",
            "\u001b[1;31mNameError\u001b[0m: name 'output_df' is not defined"
          ]
        }
      ],
      "source": [
        "output_df.to_csv('./11/11.csv', index=False)"
      ]
    }
  ],
  "metadata": {
    "colab": {
      "provenance": []
    },
    "kernelspec": {
      "display_name": "Python 3",
      "name": "python3"
    },
    "language_info": {
      "codemirror_mode": {
        "name": "ipython",
        "version": 3
      },
      "file_extension": ".py",
      "mimetype": "text/x-python",
      "name": "python",
      "nbconvert_exporter": "python",
      "pygments_lexer": "ipython3",
      "version": "3.11.2"
    }
  },
  "nbformat": 4,
  "nbformat_minor": 0
}
